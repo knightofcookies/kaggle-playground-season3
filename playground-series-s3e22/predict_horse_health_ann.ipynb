{
  "cells": [
    {
      "cell_type": "markdown",
      "id": "03803a3a",
      "metadata": {
        "id": "03803a3a"
      },
      "source": [
        "# Predicting the health of horses using an Artificial Neural Network"
      ]
    },
    {
      "cell_type": "markdown",
      "id": "a1e36789",
      "metadata": {
        "id": "a1e36789"
      },
      "source": [
        "## Importing libraries"
      ]
    },
    {
      "cell_type": "code",
      "execution_count": 29,
      "id": "eb3c96f3",
      "metadata": {
        "id": "eb3c96f3"
      },
      "outputs": [],
      "source": [
        "import numpy as np\n",
        "import pandas as pd\n",
        "import tensorflow as tf"
      ]
    },
    {
      "cell_type": "code",
      "execution_count": 30,
      "id": "8fdb224a",
      "metadata": {
        "colab": {
          "base_uri": "https://localhost:8080/",
          "height": 35
        },
        "id": "8fdb224a",
        "outputId": "1cea8127-3140-4c4e-9874-75e3606bb621"
      },
      "outputs": [
        {
          "output_type": "execute_result",
          "data": {
            "text/plain": [
              "'2.13.0'"
            ],
            "application/vnd.google.colaboratory.intrinsic+json": {
              "type": "string"
            }
          },
          "metadata": {},
          "execution_count": 30
        }
      ],
      "source": [
        "tf.__version__"
      ]
    },
    {
      "cell_type": "markdown",
      "id": "df3ecb3c",
      "metadata": {
        "id": "df3ecb3c"
      },
      "source": [
        "## Data preprocessing"
      ]
    },
    {
      "cell_type": "markdown",
      "id": "7a7503c1",
      "metadata": {
        "id": "7a7503c1"
      },
      "source": [
        "### Importing the datasets"
      ]
    },
    {
      "cell_type": "code",
      "execution_count": 31,
      "id": "ab8d31be",
      "metadata": {
        "id": "ab8d31be"
      },
      "outputs": [],
      "source": [
        "df = pd.read_csv('train_modified.csv')\n",
        "df.replace('None', np.nan, inplace=True)\n",
        "X = df.iloc[:, :-1].values\n",
        "y = df.iloc[:, -1].values"
      ]
    },
    {
      "cell_type": "code",
      "execution_count": 32,
      "id": "85ec862b",
      "metadata": {
        "colab": {
          "base_uri": "https://localhost:8080/"
        },
        "id": "85ec862b",
        "outputId": "478ad300-48d4-44b6-bdfe-0e7e8661d195"
      },
      "outputs": [
        {
          "output_type": "stream",
          "name": "stdout",
          "text": [
            "[['yes' 'adult' 'cool' ... 38.1 132 24]\n",
            " ['yes' 'adult' 'cool' ... 37.5 88 12]\n",
            " ['yes' 'adult' 'cool' ... 38.3 120 28]\n",
            " ...\n",
            " ['yes' 'young' 'normal' ... 37.5 84 40]\n",
            " ['yes' 'adult' 'normal' ... 38.1 70 16]\n",
            " ['yes' 'adult' 'normal' ... 38.1 54 36]]\n"
          ]
        }
      ],
      "source": [
        "print(X)"
      ]
    },
    {
      "cell_type": "markdown",
      "id": "24ad9234",
      "metadata": {
        "id": "24ad9234"
      },
      "source": [
        "### Taking care of missing data"
      ]
    },
    {
      "cell_type": "code",
      "execution_count": 33,
      "id": "f8fe0ba3",
      "metadata": {
        "id": "f8fe0ba3"
      },
      "outputs": [],
      "source": [
        "from sklearn.impute import SimpleImputer\n",
        "imputerString = SimpleImputer(missing_values=np.nan, strategy='most_frequent')\n",
        "imputerString.fit(X[:, :15])\n",
        "X[:, :15] = imputerString.transform(X[:, :15])\n",
        "imputerNumeric = SimpleImputer(missing_values=np.nan, strategy='mean')\n",
        "imputerNumeric.fit(X[:, -8:])\n",
        "X[:, -8:] = imputerNumeric.transform(X[:, -8:])"
      ]
    },
    {
      "cell_type": "markdown",
      "id": "3ac59733",
      "metadata": {
        "id": "3ac59733"
      },
      "source": [
        "### Encoding categorical data"
      ]
    },
    {
      "cell_type": "markdown",
      "id": "694d5da0",
      "metadata": {
        "id": "694d5da0"
      },
      "source": [
        "#### Encoding the independent variables"
      ]
    },
    {
      "cell_type": "code",
      "execution_count": 34,
      "id": "6f763ad7",
      "metadata": {
        "id": "6f763ad7"
      },
      "outputs": [],
      "source": [
        "from sklearn.compose import ColumnTransformer\n",
        "from sklearn.preprocessing import OneHotEncoder\n",
        "ct = ColumnTransformer(transformers=[('encoder', OneHotEncoder(drop='first', sparse_output=False, handle_unknown='ignore'), [0, 1, 2, 3, 4, 5, 6, 7, 8, 9, 10, 11, 12, 13, 14])], remainder='passthrough')\n",
        "X = np.array(ct.fit_transform(X))"
      ]
    },
    {
      "cell_type": "markdown",
      "id": "27c86b84",
      "metadata": {
        "id": "27c86b84"
      },
      "source": [
        "#### Encoding the dependent variable"
      ]
    },
    {
      "cell_type": "code",
      "execution_count": 35,
      "id": "51d48794",
      "metadata": {
        "id": "51d48794"
      },
      "outputs": [],
      "source": [
        "from sklearn.preprocessing import LabelEncoder\n",
        "le = LabelEncoder()\n",
        "y = le.fit_transform(y)\n",
        "y = tf.keras.utils.to_categorical(y)"
      ]
    },
    {
      "cell_type": "markdown",
      "id": "e169f70d",
      "metadata": {
        "id": "e169f70d"
      },
      "source": [
        "### Splitting the dataset into the Training set and Test set"
      ]
    },
    {
      "cell_type": "code",
      "execution_count": 36,
      "id": "35e4e106",
      "metadata": {
        "id": "35e4e106"
      },
      "outputs": [],
      "source": [
        "from sklearn.model_selection import train_test_split\n",
        "X_train, X_test, y_train, y_test = train_test_split(X, y, test_size=0.2, random_state=0)"
      ]
    },
    {
      "cell_type": "code",
      "execution_count": 37,
      "id": "a5811f3c",
      "metadata": {
        "colab": {
          "base_uri": "https://localhost:8080/"
        },
        "id": "a5811f3c",
        "outputId": "8578a333-ca16-4b3e-c078-69cfbbccd294"
      },
      "outputs": [
        {
          "output_type": "stream",
          "name": "stdout",
          "text": [
            "[[1.0 0.0 1.0 ... 38.1 132.0 24.0]\n",
            " [1.0 0.0 1.0 ... 37.5 88.0 12.0]\n",
            " [1.0 0.0 1.0 ... 38.3 120.0 28.0]\n",
            " ...\n",
            " [1.0 1.0 0.0 ... 37.5 84.0 40.0]\n",
            " [1.0 0.0 0.0 ... 38.1 70.0 16.0]\n",
            " [1.0 0.0 0.0 ... 38.1 54.0 36.0]]\n"
          ]
        }
      ],
      "source": [
        "print(X)"
      ]
    },
    {
      "cell_type": "code",
      "execution_count": 38,
      "id": "77095641",
      "metadata": {
        "colab": {
          "base_uri": "https://localhost:8080/"
        },
        "id": "77095641",
        "outputId": "2e74c40a-139a-43c1-a7c7-c487d28aff87"
      },
      "outputs": [
        {
          "output_type": "execute_result",
          "data": {
            "text/plain": [
              "(1235, 50)"
            ]
          },
          "metadata": {},
          "execution_count": 38
        }
      ],
      "source": [
        "np.shape(X)"
      ]
    },
    {
      "cell_type": "markdown",
      "id": "dc6f5fba",
      "metadata": {
        "id": "dc6f5fba"
      },
      "source": [
        "### Feature Scaling"
      ]
    },
    {
      "cell_type": "code",
      "execution_count": 39,
      "id": "c6625657",
      "metadata": {
        "id": "c6625657"
      },
      "outputs": [],
      "source": [
        "from sklearn.preprocessing import StandardScaler\n",
        "sc = StandardScaler()\n",
        "X_train[:, -8:] = sc.fit_transform(X_train[:, -8:])\n",
        "X_test[:, -8:] = sc.transform(X_test[:, -8:])"
      ]
    },
    {
      "cell_type": "code",
      "source": [
        "X_train = np.asarray(X_train).astype(np.float32)\n",
        "X_test = np.asarray(X_test).astype(np.float32)"
      ],
      "metadata": {
        "id": "ErYX8ejJIBG8"
      },
      "id": "ErYX8ejJIBG8",
      "execution_count": 40,
      "outputs": []
    },
    {
      "cell_type": "markdown",
      "id": "a3e8bd59",
      "metadata": {
        "id": "a3e8bd59"
      },
      "source": [
        "## Building the ANN"
      ]
    },
    {
      "cell_type": "markdown",
      "id": "04299291",
      "metadata": {
        "id": "04299291"
      },
      "source": [
        "### Initializing the ANN"
      ]
    },
    {
      "cell_type": "code",
      "execution_count": 41,
      "id": "7ca3809e",
      "metadata": {
        "id": "7ca3809e"
      },
      "outputs": [],
      "source": [
        "ann = tf.keras.models.Sequential()"
      ]
    },
    {
      "cell_type": "markdown",
      "id": "6739b583",
      "metadata": {
        "id": "6739b583"
      },
      "source": [
        "### Adding the input layer and the first hidden layer"
      ]
    },
    {
      "cell_type": "code",
      "execution_count": 42,
      "id": "a26d4573",
      "metadata": {
        "id": "a26d4573"
      },
      "outputs": [],
      "source": [
        "ann.add(tf.keras.layers.Dense(units=6, activation='relu'))"
      ]
    },
    {
      "cell_type": "markdown",
      "id": "57c75c09",
      "metadata": {
        "id": "57c75c09"
      },
      "source": [
        "### Adding the second hidden layer"
      ]
    },
    {
      "cell_type": "code",
      "execution_count": 43,
      "id": "acc9cfa5",
      "metadata": {
        "id": "acc9cfa5"
      },
      "outputs": [],
      "source": [
        "ann.add(tf.keras.layers.Dense(units=6, activation='relu'))"
      ]
    },
    {
      "cell_type": "markdown",
      "id": "93450aa8",
      "metadata": {
        "id": "93450aa8"
      },
      "source": [
        "### Adding the output layer"
      ]
    },
    {
      "cell_type": "code",
      "execution_count": 44,
      "id": "3e9282f2",
      "metadata": {
        "id": "3e9282f2"
      },
      "outputs": [],
      "source": [
        "ann.add(tf.keras.layers.Dense(units=3, activation='softmax'))"
      ]
    },
    {
      "cell_type": "markdown",
      "id": "bb65f3e9",
      "metadata": {
        "id": "bb65f3e9"
      },
      "source": [
        "## Training the ANN"
      ]
    },
    {
      "cell_type": "markdown",
      "id": "935cbb0b",
      "metadata": {
        "id": "935cbb0b"
      },
      "source": [
        "### Compiling the ANN"
      ]
    },
    {
      "cell_type": "code",
      "execution_count": 45,
      "id": "8513c19b",
      "metadata": {
        "id": "8513c19b"
      },
      "outputs": [],
      "source": [
        "ann.compile(optimizer = 'adam', loss = 'categorical_crossentropy', metrics = ['accuracy'])"
      ]
    },
    {
      "cell_type": "markdown",
      "id": "31d699b4",
      "metadata": {
        "id": "31d699b4"
      },
      "source": [
        "### Training the ANN on the Training set"
      ]
    },
    {
      "cell_type": "code",
      "execution_count": 46,
      "id": "90ac14fb",
      "metadata": {
        "colab": {
          "base_uri": "https://localhost:8080/"
        },
        "id": "90ac14fb",
        "outputId": "d1c75837-a0fd-4c1b-af59-4a6adba52013"
      },
      "outputs": [
        {
          "output_type": "execute_result",
          "data": {
            "text/plain": [
              "<keras.src.callbacks.History at 0x7e8a4aadee60>"
            ]
          },
          "metadata": {},
          "execution_count": 46
        }
      ],
      "source": [
        "ann.fit(X_train, y_train, batch_size=64, epochs=100, verbose=0)"
      ]
    },
    {
      "cell_type": "markdown",
      "id": "a3478657",
      "metadata": {
        "id": "a3478657"
      },
      "source": [
        "## Predicting the Test set results"
      ]
    },
    {
      "cell_type": "code",
      "execution_count": 47,
      "id": "5a3e8433",
      "metadata": {
        "colab": {
          "base_uri": "https://localhost:8080/"
        },
        "id": "5a3e8433",
        "outputId": "0e8853e2-e1b4-436a-ff2e-a0ebd4634646"
      },
      "outputs": [
        {
          "output_type": "stream",
          "name": "stdout",
          "text": [
            "8/8 [==============================] - 0s 2ms/step\n"
          ]
        }
      ],
      "source": [
        "y_pred = ann.predict(X_test)"
      ]
    },
    {
      "cell_type": "markdown",
      "id": "3d72af62",
      "metadata": {
        "id": "3d72af62"
      },
      "source": [
        "## Making the Confusion Matrix"
      ]
    },
    {
      "cell_type": "code",
      "source": [
        "y_pred = tf.keras.utils.to_categorical(np.argmax(y_pred, 1), dtype = \"int64\")"
      ],
      "metadata": {
        "id": "QuaZ3lDSMvG5"
      },
      "id": "QuaZ3lDSMvG5",
      "execution_count": 48,
      "outputs": []
    },
    {
      "cell_type": "code",
      "execution_count": 49,
      "id": "25fd0aa7",
      "metadata": {
        "colab": {
          "base_uri": "https://localhost:8080/"
        },
        "id": "25fd0aa7",
        "outputId": "1647b1a5-b022-4bbd-ebcc-4b2973405699"
      },
      "outputs": [
        {
          "output_type": "stream",
          "name": "stdout",
          "text": [
            "[[69  3 17]\n",
            " [ 5 24 13]\n",
            " [32  9 75]]\n"
          ]
        },
        {
          "output_type": "execute_result",
          "data": {
            "text/plain": [
              "0.680161943319838"
            ]
          },
          "metadata": {},
          "execution_count": 49
        }
      ],
      "source": [
        "from sklearn.metrics import confusion_matrix, accuracy_score\n",
        "cm = confusion_matrix(y_test.argmax(axis=1), y_pred.argmax(axis=1))\n",
        "print(cm)\n",
        "accuracy_score(y_test.argmax(axis=1), y_pred.argmax(axis=1))"
      ]
    },
    {
      "cell_type": "markdown",
      "source": [
        "## Predicting values for the test dataset"
      ],
      "metadata": {
        "id": "xOqpYajN-oYj"
      },
      "id": "xOqpYajN-oYj"
    },
    {
      "cell_type": "code",
      "source": [
        "df_res = pd.read_csv('test_modified.csv')\n",
        "df_res.replace('None', np.nan, inplace=True)\n",
        "X_res = df_res.values"
      ],
      "metadata": {
        "id": "0R6JdJKF-syf"
      },
      "id": "0R6JdJKF-syf",
      "execution_count": 50,
      "outputs": []
    },
    {
      "cell_type": "code",
      "source": [
        "X_res"
      ],
      "metadata": {
        "colab": {
          "base_uri": "https://localhost:8080/"
        },
        "id": "F6uqUtbiCPkX",
        "outputId": "eda60b4e-b1a6-46cc-c80c-c586a68f51f1"
      },
      "id": "F6uqUtbiCPkX",
      "execution_count": 51,
      "outputs": [
        {
          "output_type": "execute_result",
          "data": {
            "text/plain": [
              "array([['no', 'adult', 'normal', ..., 38.6, 40, 20],\n",
              "       ['yes', 'adult', 'cool', ..., 38.2, 112, 48],\n",
              "       ['yes', 'adult', 'cool', ..., 37.7, 66, 12],\n",
              "       ...,\n",
              "       ['yes', 'adult', 'cool', ..., 39.2, 132, 12],\n",
              "       ['no', 'adult', 'normal', ..., 38.3, 54, 66],\n",
              "       ['yes', 'adult', 'cold', ..., 38.1, 66, 12]], dtype=object)"
            ]
          },
          "metadata": {},
          "execution_count": 51
        }
      ]
    },
    {
      "cell_type": "code",
      "source": [
        "X_res[:, :15] = imputerString.transform(X_res[:, :15])\n",
        "X_res[:, -8:] = imputerNumeric.transform(X_res[:, -8:])"
      ],
      "metadata": {
        "id": "4R_VZlsr_LIq"
      },
      "id": "4R_VZlsr_LIq",
      "execution_count": 52,
      "outputs": []
    },
    {
      "cell_type": "code",
      "source": [
        "X_res = np.array(ct.transform(X_res))"
      ],
      "metadata": {
        "colab": {
          "base_uri": "https://localhost:8080/"
        },
        "id": "UB0CqL4b_eLl",
        "outputId": "0f0d3218-1292-4c69-fdca-c7a875a25617"
      },
      "id": "UB0CqL4b_eLl",
      "execution_count": 53,
      "outputs": [
        {
          "output_type": "stream",
          "name": "stderr",
          "text": [
            "/usr/local/lib/python3.10/dist-packages/sklearn/preprocessing/_encoders.py:202: UserWarning: Found unknown categories in columns [6] during transform. These unknown categories will be encoded as all zeros\n",
            "  warnings.warn(\n"
          ]
        }
      ]
    },
    {
      "cell_type": "code",
      "source": [
        "X_res[:, -8:] = sc.transform(X_res[:, -8:])"
      ],
      "metadata": {
        "id": "z0ZLSPUX_rzZ"
      },
      "id": "z0ZLSPUX_rzZ",
      "execution_count": 54,
      "outputs": []
    },
    {
      "cell_type": "code",
      "source": [
        "X_res = np.asarray(X_res).astype(np.float32)"
      ],
      "metadata": {
        "id": "5vFabCFu_uLw"
      },
      "id": "5vFabCFu_uLw",
      "execution_count": 55,
      "outputs": []
    },
    {
      "cell_type": "code",
      "source": [
        "y_res = ann.predict(X_res)\n",
        "y_res = y_res.argmax(axis=1)"
      ],
      "metadata": {
        "colab": {
          "base_uri": "https://localhost:8080/"
        },
        "id": "YQ-yr8ZZ_7MI",
        "outputId": "4ea7019e-e857-49ee-81d2-31de72d38e80"
      },
      "id": "YQ-yr8ZZ_7MI",
      "execution_count": 56,
      "outputs": [
        {
          "output_type": "stream",
          "name": "stdout",
          "text": [
            "26/26 [==============================] - 0s 1ms/step\n"
          ]
        }
      ]
    },
    {
      "cell_type": "code",
      "source": [
        "y_res_str = le.inverse_transform(y_res)"
      ],
      "metadata": {
        "id": "Q5uKYFA8A0Ru"
      },
      "id": "Q5uKYFA8A0Ru",
      "execution_count": 57,
      "outputs": []
    },
    {
      "cell_type": "code",
      "source": [
        "pd.DataFrame(y_res_str).to_csv(\"submission.csv\")"
      ],
      "metadata": {
        "id": "gtp7GxYcA7Y9"
      },
      "id": "gtp7GxYcA7Y9",
      "execution_count": 58,
      "outputs": []
    }
  ],
  "metadata": {
    "kernelspec": {
      "display_name": "Python 3 (ipykernel)",
      "language": "python",
      "name": "python3"
    },
    "language_info": {
      "codemirror_mode": {
        "name": "ipython",
        "version": 3
      },
      "file_extension": ".py",
      "mimetype": "text/x-python",
      "name": "python",
      "nbconvert_exporter": "python",
      "pygments_lexer": "ipython3",
      "version": "3.10.12"
    },
    "colab": {
      "provenance": []
    }
  },
  "nbformat": 4,
  "nbformat_minor": 5
}