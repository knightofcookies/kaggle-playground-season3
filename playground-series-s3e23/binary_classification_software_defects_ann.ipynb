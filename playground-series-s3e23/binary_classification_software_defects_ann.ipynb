{
 "cells": [
  {
   "cell_type": "markdown",
   "id": "ef506c9a",
   "metadata": {},
   "source": [
    "# Binary Classification with a Software Defects Dataset"
   ]
  },
  {
   "cell_type": "markdown",
   "id": "067518c4",
   "metadata": {},
   "source": [
    "## Importing libraries"
   ]
  },
  {
   "cell_type": "code",
   "execution_count": 1,
   "id": "247bab84",
   "metadata": {},
   "outputs": [],
   "source": [
    "import numpy as np\n",
    "import pandas as pd\n",
    "import tensorflow as tf"
   ]
  },
  {
   "cell_type": "code",
   "execution_count": 2,
   "id": "e4120767",
   "metadata": {},
   "outputs": [
    {
     "data": {
      "text/plain": [
       "'2.10.0'"
      ]
     },
     "execution_count": 2,
     "metadata": {},
     "output_type": "execute_result"
    }
   ],
   "source": [
    "tf.__version__"
   ]
  },
  {
   "cell_type": "markdown",
   "id": "4aca0af2",
   "metadata": {},
   "source": [
    "## Data preprocessing"
   ]
  },
  {
   "cell_type": "markdown",
   "id": "28a1c21b",
   "metadata": {},
   "source": [
    "### Importing the datasets"
   ]
  },
  {
   "cell_type": "code",
   "execution_count": 3,
   "id": "c3822eb3",
   "metadata": {},
   "outputs": [],
   "source": [
    "df = pd.read_csv('train.csv')\n",
    "X = df.iloc[:, 1:-1].values\n",
    "y = df.iloc[:, -1].values"
   ]
  },
  {
   "cell_type": "code",
   "execution_count": 4,
   "id": "79487f59",
   "metadata": {},
   "outputs": [
    {
     "name": "stdout",
     "output_type": "stream",
     "text": [
      "[[ 22.   3.   1. ...  38.  22.   5.]\n",
      " [ 14.   2.   1. ...  18.  14.   3.]\n",
      " [ 11.   2.   1. ...  28.  17.   3.]\n",
      " ...\n",
      " [ 26.   1.   1. ...  51.  28.   1.]\n",
      " [ 10.   2.   1. ...  24.  19.   3.]\n",
      " [136.  18.  18. ... 162. 135.  35.]]\n"
     ]
    }
   ],
   "source": [
    "print(X)"
   ]
  },
  {
   "cell_type": "markdown",
   "id": "ac67925c",
   "metadata": {},
   "source": [
    "### Encoding categorical data"
   ]
  },
  {
   "cell_type": "markdown",
   "id": "2e4185b1",
   "metadata": {},
   "source": [
    "#### Encoding the dependent variable"
   ]
  },
  {
   "cell_type": "code",
   "execution_count": 5,
   "id": "3341c65b",
   "metadata": {},
   "outputs": [],
   "source": [
    "from sklearn.preprocessing import LabelEncoder\n",
    "le = LabelEncoder()\n",
    "y = le.fit_transform(y)\n",
    "# y = tf.keras.utils.to_categorical(y)"
   ]
  },
  {
   "cell_type": "code",
   "execution_count": 6,
   "id": "dd2b4566",
   "metadata": {},
   "outputs": [
    {
     "name": "stdout",
     "output_type": "stream",
     "text": [
      "[0 0 0 ... 0 0 0]\n"
     ]
    }
   ],
   "source": [
    "print(y)"
   ]
  },
  {
   "cell_type": "markdown",
   "id": "8861592c",
   "metadata": {},
   "source": [
    "### Splitting the data into the Training set and the Test set"
   ]
  },
  {
   "cell_type": "code",
   "execution_count": 7,
   "id": "afc35f5f",
   "metadata": {},
   "outputs": [],
   "source": [
    "from sklearn.model_selection import train_test_split\n",
    "X_train, X_test, y_train, y_test = train_test_split(X, y, test_size=0.2, random_state=0)"
   ]
  },
  {
   "cell_type": "markdown",
   "id": "c1837dc3",
   "metadata": {},
   "source": [
    "### Feature scaling"
   ]
  },
  {
   "cell_type": "code",
   "execution_count": 8,
   "id": "655c78fe",
   "metadata": {},
   "outputs": [],
   "source": [
    "from sklearn.preprocessing import StandardScaler\n",
    "sc = StandardScaler()\n",
    "X_train = sc.fit_transform(X_train)\n",
    "X_test = sc.transform(X_test)"
   ]
  },
  {
   "cell_type": "markdown",
   "id": "c00fe2d8",
   "metadata": {},
   "source": [
    "## Building the ANN"
   ]
  },
  {
   "cell_type": "markdown",
   "id": "775d8ee8",
   "metadata": {},
   "source": [
    "### Initializing the ANN"
   ]
  },
  {
   "cell_type": "code",
   "execution_count": 9,
   "id": "97a56d2b",
   "metadata": {},
   "outputs": [],
   "source": [
    "ann = tf.keras.models.Sequential()"
   ]
  },
  {
   "cell_type": "markdown",
   "id": "fb511447",
   "metadata": {},
   "source": [
    "### Adding the input layer and the first hidden layer"
   ]
  },
  {
   "cell_type": "code",
   "execution_count": 10,
   "id": "8311cd1d",
   "metadata": {},
   "outputs": [],
   "source": [
    "ann.add(tf.keras.layers.Dense(units=6, activation='relu'))"
   ]
  },
  {
   "cell_type": "markdown",
   "id": "e0d9d6bd",
   "metadata": {},
   "source": [
    "### Adding the second hidden layer"
   ]
  },
  {
   "cell_type": "code",
   "execution_count": 11,
   "id": "7616c9d5",
   "metadata": {},
   "outputs": [],
   "source": [
    "ann.add(tf.keras.layers.Dense(units=6, activation='relu'))"
   ]
  },
  {
   "cell_type": "markdown",
   "id": "5b3f0c35",
   "metadata": {},
   "source": [
    "### Adding the output layer"
   ]
  },
  {
   "cell_type": "code",
   "execution_count": 12,
   "id": "838f6bcc",
   "metadata": {},
   "outputs": [],
   "source": [
    "ann.add(tf.keras.layers.Dense(units=1, activation='sigmoid'))"
   ]
  },
  {
   "cell_type": "markdown",
   "id": "f95fd4fe",
   "metadata": {},
   "source": [
    "## Training the ANN"
   ]
  },
  {
   "cell_type": "markdown",
   "id": "7074605a",
   "metadata": {},
   "source": [
    "### Compiling the ANN"
   ]
  },
  {
   "cell_type": "code",
   "execution_count": 13,
   "id": "8691537c",
   "metadata": {},
   "outputs": [],
   "source": [
    "ann.compile(optimizer = 'adam', loss = 'binary_crossentropy', metrics = ['accuracy'])"
   ]
  },
  {
   "cell_type": "markdown",
   "id": "e5a70a03",
   "metadata": {},
   "source": [
    "### Training the ANN on the Training set"
   ]
  },
  {
   "cell_type": "code",
   "execution_count": 14,
   "id": "009b7e8c",
   "metadata": {},
   "outputs": [
    {
     "name": "stdout",
     "output_type": "stream",
     "text": [
      "Epoch 1/100\n",
      "1273/1273 [==============================] - 5s 3ms/step - loss: 0.4749 - accuracy: 0.7983\n",
      "Epoch 2/100\n",
      "1273/1273 [==============================] - 4s 3ms/step - loss: 0.4375 - accuracy: 0.8101\n",
      "Epoch 3/100\n",
      "1273/1273 [==============================] - 4s 3ms/step - loss: 0.4347 - accuracy: 0.8116\n",
      "Epoch 4/100\n",
      "1273/1273 [==============================] - 4s 3ms/step - loss: 0.4334 - accuracy: 0.8118\n",
      "Epoch 5/100\n",
      "1273/1273 [==============================] - 4s 3ms/step - loss: 0.4329 - accuracy: 0.8120\n",
      "Epoch 6/100\n",
      "1273/1273 [==============================] - 4s 3ms/step - loss: 0.4322 - accuracy: 0.8132\n",
      "Epoch 7/100\n",
      "1273/1273 [==============================] - 4s 3ms/step - loss: 0.4321 - accuracy: 0.8128\n",
      "Epoch 8/100\n",
      "1273/1273 [==============================] - 4s 3ms/step - loss: 0.4320 - accuracy: 0.8126\n",
      "Epoch 9/100\n",
      "1273/1273 [==============================] - 4s 3ms/step - loss: 0.4318 - accuracy: 0.8132\n",
      "Epoch 10/100\n",
      "1273/1273 [==============================] - 4s 3ms/step - loss: 0.4318 - accuracy: 0.8131\n",
      "Epoch 11/100\n",
      "1273/1273 [==============================] - 4s 3ms/step - loss: 0.4316 - accuracy: 0.8132\n",
      "Epoch 12/100\n",
      "1273/1273 [==============================] - 4s 3ms/step - loss: 0.4314 - accuracy: 0.8133\n",
      "Epoch 13/100\n",
      "1273/1273 [==============================] - 4s 3ms/step - loss: 0.4315 - accuracy: 0.8137\n",
      "Epoch 14/100\n",
      "1273/1273 [==============================] - 5s 4ms/step - loss: 0.4313 - accuracy: 0.8140\n",
      "Epoch 15/100\n",
      "1273/1273 [==============================] - 5s 4ms/step - loss: 0.4312 - accuracy: 0.8139\n",
      "Epoch 16/100\n",
      "1273/1273 [==============================] - 4s 3ms/step - loss: 0.4312 - accuracy: 0.8135\n",
      "Epoch 17/100\n",
      "1273/1273 [==============================] - 4s 3ms/step - loss: 0.4311 - accuracy: 0.8132\n",
      "Epoch 18/100\n",
      "1273/1273 [==============================] - 4s 4ms/step - loss: 0.4312 - accuracy: 0.8135\n",
      "Epoch 19/100\n",
      "1273/1273 [==============================] - 4s 3ms/step - loss: 0.4311 - accuracy: 0.8137\n",
      "Epoch 20/100\n",
      "1273/1273 [==============================] - 4s 3ms/step - loss: 0.4311 - accuracy: 0.8133\n",
      "Epoch 21/100\n",
      "1273/1273 [==============================] - 4s 3ms/step - loss: 0.4308 - accuracy: 0.8139\n",
      "Epoch 22/100\n",
      "1273/1273 [==============================] - 4s 3ms/step - loss: 0.4309 - accuracy: 0.8137\n",
      "Epoch 23/100\n",
      "1273/1273 [==============================] - 4s 3ms/step - loss: 0.4307 - accuracy: 0.8137\n",
      "Epoch 24/100\n",
      "1273/1273 [==============================] - 4s 3ms/step - loss: 0.4309 - accuracy: 0.8137\n",
      "Epoch 25/100\n",
      "1273/1273 [==============================] - 4s 3ms/step - loss: 0.4306 - accuracy: 0.8143\n",
      "Epoch 26/100\n",
      "1273/1273 [==============================] - 4s 4ms/step - loss: 0.4306 - accuracy: 0.8134\n",
      "Epoch 27/100\n",
      "1273/1273 [==============================] - 4s 3ms/step - loss: 0.4306 - accuracy: 0.8140\n",
      "Epoch 28/100\n",
      "1273/1273 [==============================] - 4s 3ms/step - loss: 0.4305 - accuracy: 0.8135\n",
      "Epoch 29/100\n",
      "1273/1273 [==============================] - 4s 3ms/step - loss: 0.4306 - accuracy: 0.8141\n",
      "Epoch 30/100\n",
      "1273/1273 [==============================] - 5s 4ms/step - loss: 0.4304 - accuracy: 0.8143\n",
      "Epoch 31/100\n",
      "1273/1273 [==============================] - 4s 3ms/step - loss: 0.4304 - accuracy: 0.8140\n",
      "Epoch 32/100\n",
      "1273/1273 [==============================] - 4s 3ms/step - loss: 0.4305 - accuracy: 0.8141\n",
      "Epoch 33/100\n",
      "1273/1273 [==============================] - 4s 3ms/step - loss: 0.4305 - accuracy: 0.8145\n",
      "Epoch 34/100\n",
      "1273/1273 [==============================] - 4s 3ms/step - loss: 0.4305 - accuracy: 0.8147\n",
      "Epoch 35/100\n",
      "1273/1273 [==============================] - 4s 3ms/step - loss: 0.4303 - accuracy: 0.8140\n",
      "Epoch 36/100\n",
      "1273/1273 [==============================] - 4s 3ms/step - loss: 0.4305 - accuracy: 0.8142\n",
      "Epoch 37/100\n",
      "1273/1273 [==============================] - 4s 3ms/step - loss: 0.4303 - accuracy: 0.8141\n",
      "Epoch 38/100\n",
      "1273/1273 [==============================] - 4s 3ms/step - loss: 0.4304 - accuracy: 0.8138\n",
      "Epoch 39/100\n",
      "1273/1273 [==============================] - 4s 3ms/step - loss: 0.4304 - accuracy: 0.8142\n",
      "Epoch 40/100\n",
      "1273/1273 [==============================] - 4s 3ms/step - loss: 0.4304 - accuracy: 0.8142\n",
      "Epoch 41/100\n",
      "1273/1273 [==============================] - 4s 3ms/step - loss: 0.4302 - accuracy: 0.8142\n",
      "Epoch 42/100\n",
      "1273/1273 [==============================] - 4s 3ms/step - loss: 0.4303 - accuracy: 0.8142\n",
      "Epoch 43/100\n",
      "1273/1273 [==============================] - 4s 3ms/step - loss: 0.4304 - accuracy: 0.8141\n",
      "Epoch 44/100\n",
      "1273/1273 [==============================] - 4s 3ms/step - loss: 0.4302 - accuracy: 0.8139\n",
      "Epoch 45/100\n",
      "1273/1273 [==============================] - 4s 3ms/step - loss: 0.4303 - accuracy: 0.8141\n",
      "Epoch 46/100\n",
      "1273/1273 [==============================] - 4s 3ms/step - loss: 0.4303 - accuracy: 0.8144\n",
      "Epoch 47/100\n",
      "1273/1273 [==============================] - 5s 4ms/step - loss: 0.4302 - accuracy: 0.8144\n",
      "Epoch 48/100\n",
      "1273/1273 [==============================] - 4s 3ms/step - loss: 0.4302 - accuracy: 0.8141\n",
      "Epoch 49/100\n",
      "1273/1273 [==============================] - 4s 3ms/step - loss: 0.4302 - accuracy: 0.8148\n",
      "Epoch 50/100\n",
      "1273/1273 [==============================] - 4s 3ms/step - loss: 0.4301 - accuracy: 0.8142\n",
      "Epoch 51/100\n",
      "1273/1273 [==============================] - 4s 3ms/step - loss: 0.4301 - accuracy: 0.8144\n",
      "Epoch 52/100\n",
      "1273/1273 [==============================] - 4s 3ms/step - loss: 0.4303 - accuracy: 0.8143\n",
      "Epoch 53/100\n",
      "1273/1273 [==============================] - 4s 3ms/step - loss: 0.4302 - accuracy: 0.8141\n",
      "Epoch 54/100\n",
      "1273/1273 [==============================] - 4s 3ms/step - loss: 0.4302 - accuracy: 0.8146\n",
      "Epoch 55/100\n",
      "1273/1273 [==============================] - 4s 3ms/step - loss: 0.4303 - accuracy: 0.8144\n",
      "Epoch 56/100\n",
      "1273/1273 [==============================] - 4s 3ms/step - loss: 0.4301 - accuracy: 0.8144\n",
      "Epoch 57/100\n",
      "1273/1273 [==============================] - 4s 3ms/step - loss: 0.4302 - accuracy: 0.8143\n",
      "Epoch 58/100\n",
      "1273/1273 [==============================] - 4s 3ms/step - loss: 0.4302 - accuracy: 0.8142\n",
      "Epoch 59/100\n",
      "1273/1273 [==============================] - 4s 3ms/step - loss: 0.4302 - accuracy: 0.8144\n",
      "Epoch 60/100\n",
      "1273/1273 [==============================] - 4s 3ms/step - loss: 0.4301 - accuracy: 0.8143\n",
      "Epoch 61/100\n",
      "1273/1273 [==============================] - 4s 3ms/step - loss: 0.4302 - accuracy: 0.8141\n",
      "Epoch 62/100\n",
      "1273/1273 [==============================] - 4s 3ms/step - loss: 0.4300 - accuracy: 0.8143\n",
      "Epoch 63/100\n",
      "1273/1273 [==============================] - 4s 3ms/step - loss: 0.4302 - accuracy: 0.8143\n",
      "Epoch 64/100\n",
      "1273/1273 [==============================] - 4s 3ms/step - loss: 0.4301 - accuracy: 0.8146\n",
      "Epoch 65/100\n",
      "1273/1273 [==============================] - 4s 3ms/step - loss: 0.4301 - accuracy: 0.8145\n",
      "Epoch 66/100\n",
      "1273/1273 [==============================] - 4s 3ms/step - loss: 0.4301 - accuracy: 0.8146\n",
      "Epoch 67/100\n",
      "1273/1273 [==============================] - 4s 3ms/step - loss: 0.4302 - accuracy: 0.8143\n",
      "Epoch 68/100\n",
      "1273/1273 [==============================] - 4s 3ms/step - loss: 0.4302 - accuracy: 0.8146\n",
      "Epoch 69/100\n",
      "1273/1273 [==============================] - 4s 3ms/step - loss: 0.4301 - accuracy: 0.8142\n",
      "Epoch 70/100\n",
      "1273/1273 [==============================] - 4s 3ms/step - loss: 0.4302 - accuracy: 0.8140\n",
      "Epoch 71/100\n",
      "1273/1273 [==============================] - 4s 3ms/step - loss: 0.4302 - accuracy: 0.8145\n",
      "Epoch 72/100\n",
      "1273/1273 [==============================] - 4s 3ms/step - loss: 0.4301 - accuracy: 0.8137\n",
      "Epoch 73/100\n",
      "1273/1273 [==============================] - 4s 3ms/step - loss: 0.4301 - accuracy: 0.8143\n",
      "Epoch 74/100\n",
      "1273/1273 [==============================] - 4s 3ms/step - loss: 0.4300 - accuracy: 0.8147\n",
      "Epoch 75/100\n",
      "1273/1273 [==============================] - 5s 4ms/step - loss: 0.4301 - accuracy: 0.8142\n",
      "Epoch 76/100\n",
      "1273/1273 [==============================] - 4s 3ms/step - loss: 0.4301 - accuracy: 0.8144\n",
      "Epoch 77/100\n",
      "1273/1273 [==============================] - 4s 3ms/step - loss: 0.4300 - accuracy: 0.8140\n",
      "Epoch 78/100\n",
      "1273/1273 [==============================] - 4s 3ms/step - loss: 0.4300 - accuracy: 0.8143\n",
      "Epoch 79/100\n"
     ]
    },
    {
     "name": "stdout",
     "output_type": "stream",
     "text": [
      "1273/1273 [==============================] - 4s 3ms/step - loss: 0.4301 - accuracy: 0.8143\n",
      "Epoch 80/100\n",
      "1273/1273 [==============================] - 4s 3ms/step - loss: 0.4300 - accuracy: 0.8146\n",
      "Epoch 81/100\n",
      "1273/1273 [==============================] - 4s 3ms/step - loss: 0.4300 - accuracy: 0.8144\n",
      "Epoch 82/100\n",
      "1273/1273 [==============================] - 4s 3ms/step - loss: 0.4301 - accuracy: 0.8142\n",
      "Epoch 83/100\n",
      "1273/1273 [==============================] - 4s 3ms/step - loss: 0.4300 - accuracy: 0.8146\n",
      "Epoch 84/100\n",
      "1273/1273 [==============================] - 4s 3ms/step - loss: 0.4299 - accuracy: 0.8143\n",
      "Epoch 85/100\n",
      "1273/1273 [==============================] - 4s 3ms/step - loss: 0.4300 - accuracy: 0.8150\n",
      "Epoch 86/100\n",
      "1273/1273 [==============================] - 4s 3ms/step - loss: 0.4300 - accuracy: 0.8147\n",
      "Epoch 87/100\n",
      "1273/1273 [==============================] - 4s 3ms/step - loss: 0.4301 - accuracy: 0.8140\n",
      "Epoch 88/100\n",
      "1273/1273 [==============================] - 4s 3ms/step - loss: 0.4298 - accuracy: 0.8142\n",
      "Epoch 89/100\n",
      "1273/1273 [==============================] - 4s 3ms/step - loss: 0.4300 - accuracy: 0.8142\n",
      "Epoch 90/100\n",
      "1273/1273 [==============================] - 4s 3ms/step - loss: 0.4300 - accuracy: 0.8142\n",
      "Epoch 91/100\n",
      "1273/1273 [==============================] - 4s 3ms/step - loss: 0.4300 - accuracy: 0.8140\n",
      "Epoch 92/100\n",
      "1273/1273 [==============================] - 4s 3ms/step - loss: 0.4299 - accuracy: 0.8145\n",
      "Epoch 93/100\n",
      "1273/1273 [==============================] - 4s 3ms/step - loss: 0.4299 - accuracy: 0.8144\n",
      "Epoch 94/100\n",
      "1273/1273 [==============================] - 4s 3ms/step - loss: 0.4301 - accuracy: 0.8144\n",
      "Epoch 95/100\n",
      "1273/1273 [==============================] - 4s 3ms/step - loss: 0.4301 - accuracy: 0.8145\n",
      "Epoch 96/100\n",
      "1273/1273 [==============================] - 4s 3ms/step - loss: 0.4300 - accuracy: 0.8144\n",
      "Epoch 97/100\n",
      "1273/1273 [==============================] - 4s 3ms/step - loss: 0.4300 - accuracy: 0.8146\n",
      "Epoch 98/100\n",
      "1273/1273 [==============================] - 4s 3ms/step - loss: 0.4300 - accuracy: 0.8145\n",
      "Epoch 99/100\n",
      "1273/1273 [==============================] - 4s 3ms/step - loss: 0.4300 - accuracy: 0.8144\n",
      "Epoch 100/100\n",
      "1273/1273 [==============================] - 4s 3ms/step - loss: 0.4299 - accuracy: 0.8143\n"
     ]
    },
    {
     "data": {
      "text/plain": [
       "<keras.callbacks.History at 0x1bdb705fd60>"
      ]
     },
     "execution_count": 14,
     "metadata": {},
     "output_type": "execute_result"
    }
   ],
   "source": [
    "ann.fit(X_train, y_train, batch_size=64, epochs=100)"
   ]
  },
  {
   "cell_type": "markdown",
   "id": "32c7075c",
   "metadata": {},
   "source": [
    "## Predicting the Test set results"
   ]
  },
  {
   "cell_type": "code",
   "execution_count": 15,
   "id": "d9d4c611",
   "metadata": {},
   "outputs": [
    {
     "name": "stdout",
     "output_type": "stream",
     "text": [
      "637/637 [==============================] - 2s 2ms/step\n"
     ]
    }
   ],
   "source": [
    "y_pred = ann.predict(X_test)"
   ]
  },
  {
   "cell_type": "code",
   "execution_count": 16,
   "id": "2f9db876",
   "metadata": {},
   "outputs": [],
   "source": [
    "y_pred = (y_pred > 0.5)"
   ]
  },
  {
   "cell_type": "markdown",
   "id": "5d4a49cd",
   "metadata": {},
   "source": [
    "## Making the Confusion Matrix"
   ]
  },
  {
   "cell_type": "code",
   "execution_count": 17,
   "id": "765ce14d",
   "metadata": {},
   "outputs": [
    {
     "name": "stdout",
     "output_type": "stream",
     "text": [
      "[[14890   863]\n",
      " [ 2856  1744]]\n"
     ]
    },
    {
     "data": {
      "text/plain": [
       "0.8172750945806515"
      ]
     },
     "execution_count": 17,
     "metadata": {},
     "output_type": "execute_result"
    }
   ],
   "source": [
    "from sklearn.metrics import confusion_matrix, accuracy_score\n",
    "cm = confusion_matrix(y_test, y_pred)\n",
    "print(cm)\n",
    "accuracy_score(y_test, y_pred)"
   ]
  },
  {
   "cell_type": "markdown",
   "id": "9d8f739c",
   "metadata": {},
   "source": [
    "## Predicting values for the test dataset"
   ]
  },
  {
   "cell_type": "code",
   "execution_count": 25,
   "id": "280191b5",
   "metadata": {},
   "outputs": [],
   "source": [
    "df_res = pd.read_csv('test.csv')\n",
    "X_res = df_res.iloc[:, 1:].values"
   ]
  },
  {
   "cell_type": "code",
   "execution_count": 26,
   "id": "90716a8a",
   "metadata": {},
   "outputs": [
    {
     "name": "stdout",
     "output_type": "stream",
     "text": [
      "[[ 33.   5.   1. ...  87.  57.   9.]\n",
      " [ 27.   8.   8. ...  70.  49.  15.]\n",
      " [130.  11.   7. ... 333. 244.  21.]\n",
      " ...\n",
      " [ 24.   2.   1. ...  36.  18.   3.]\n",
      " [ 18.   2.   1. ...  29.  22.   3.]\n",
      " [101.  15.  10. ...   0.   0.  29.]]\n"
     ]
    }
   ],
   "source": [
    "print(X_res)"
   ]
  },
  {
   "cell_type": "code",
   "execution_count": 28,
   "id": "f8af304d",
   "metadata": {},
   "outputs": [],
   "source": [
    "X_res = sc.transform(X_res)"
   ]
  },
  {
   "cell_type": "code",
   "execution_count": 29,
   "id": "4337f13f",
   "metadata": {},
   "outputs": [
    {
     "name": "stdout",
     "output_type": "stream",
     "text": [
      "2121/2121 [==============================] - 5s 2ms/step\n"
     ]
    }
   ],
   "source": [
    "y_res = ann.predict(X_res)"
   ]
  },
  {
   "cell_type": "code",
   "execution_count": 31,
   "id": "28bb7ae3",
   "metadata": {},
   "outputs": [],
   "source": [
    "df_submission = pd.DataFrame(y_res)"
   ]
  },
  {
   "cell_type": "code",
   "execution_count": 32,
   "id": "40f368d8",
   "metadata": {},
   "outputs": [
    {
     "data": {
      "text/html": [
       "<div>\n",
       "<style scoped>\n",
       "    .dataframe tbody tr th:only-of-type {\n",
       "        vertical-align: middle;\n",
       "    }\n",
       "\n",
       "    .dataframe tbody tr th {\n",
       "        vertical-align: top;\n",
       "    }\n",
       "\n",
       "    .dataframe thead th {\n",
       "        text-align: right;\n",
       "    }\n",
       "</style>\n",
       "<table border=\"1\" class=\"dataframe\">\n",
       "  <thead>\n",
       "    <tr style=\"text-align: right;\">\n",
       "      <th></th>\n",
       "      <th>0</th>\n",
       "    </tr>\n",
       "  </thead>\n",
       "  <tbody>\n",
       "    <tr>\n",
       "      <th>0</th>\n",
       "      <td>0.267122</td>\n",
       "    </tr>\n",
       "    <tr>\n",
       "      <th>1</th>\n",
       "      <td>0.160339</td>\n",
       "    </tr>\n",
       "    <tr>\n",
       "      <th>2</th>\n",
       "      <td>0.701357</td>\n",
       "    </tr>\n",
       "    <tr>\n",
       "      <th>3</th>\n",
       "      <td>0.468077</td>\n",
       "    </tr>\n",
       "    <tr>\n",
       "      <th>4</th>\n",
       "      <td>0.129696</td>\n",
       "    </tr>\n",
       "  </tbody>\n",
       "</table>\n",
       "</div>"
      ],
      "text/plain": [
       "          0\n",
       "0  0.267122\n",
       "1  0.160339\n",
       "2  0.701357\n",
       "3  0.468077\n",
       "4  0.129696"
      ]
     },
     "execution_count": 32,
     "metadata": {},
     "output_type": "execute_result"
    }
   ],
   "source": [
    "df_submission.head()"
   ]
  },
  {
   "cell_type": "code",
   "execution_count": 34,
   "id": "b2141c2c",
   "metadata": {},
   "outputs": [],
   "source": [
    "df_submission.columns = [\"defects\"]"
   ]
  },
  {
   "cell_type": "code",
   "execution_count": 37,
   "id": "0e9d64e4",
   "metadata": {},
   "outputs": [],
   "source": [
    "df_submission = df_submission.rename(index = lambda x: x + 101763)"
   ]
  },
  {
   "cell_type": "code",
   "execution_count": 39,
   "id": "434726ba",
   "metadata": {},
   "outputs": [],
   "source": [
    "df_submission.to_csv(\"submission.csv\")"
   ]
  }
 ],
 "metadata": {
  "kernelspec": {
   "display_name": "Python 3 (ipykernel)",
   "language": "python",
   "name": "python3"
  },
  "language_info": {
   "codemirror_mode": {
    "name": "ipython",
    "version": 3
   },
   "file_extension": ".py",
   "mimetype": "text/x-python",
   "name": "python",
   "nbconvert_exporter": "python",
   "pygments_lexer": "ipython3",
   "version": "3.10.12"
  }
 },
 "nbformat": 4,
 "nbformat_minor": 5
}
